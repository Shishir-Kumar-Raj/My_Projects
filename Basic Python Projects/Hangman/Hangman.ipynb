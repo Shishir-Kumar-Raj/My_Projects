{
 "cells": [
  {
   "cell_type": "markdown",
   "id": "2d83830a-ce8a-457a-bc77-3c96567e0359",
   "metadata": {},
   "source": [
    "#### Hangman"
   ]
  },
  {
   "cell_type": "code",
   "execution_count": 9,
   "id": "075bbab2-b1ac-4156-87c0-a60fc57762bc",
   "metadata": {},
   "outputs": [
    {
     "name": "stdout",
     "output_type": "stream",
     "text": [
      "The solution is elephant.\n",
      "['_', '_', '_', '_', '_', '_', '_', '_']\n"
     ]
    },
    {
     "name": "stdin",
     "output_type": "stream",
     "text": [
      "Enter a letter: h\n"
     ]
    },
    {
     "name": "stdout",
     "output_type": "stream",
     "text": [
      "['_', '_', '_', '_', 'h', '_', '_', '_']\n"
     ]
    },
    {
     "name": "stdin",
     "output_type": "stream",
     "text": [
      "Enter a letter: e\n"
     ]
    },
    {
     "name": "stdout",
     "output_type": "stream",
     "text": [
      "['e', '_', 'e', '_', 'h', '_', '_', '_']\n"
     ]
    },
    {
     "name": "stdin",
     "output_type": "stream",
     "text": [
      "Enter a letter: l\n"
     ]
    },
    {
     "name": "stdout",
     "output_type": "stream",
     "text": [
      "['e', 'l', 'e', '_', 'h', '_', '_', '_']\n"
     ]
    },
    {
     "name": "stdin",
     "output_type": "stream",
     "text": [
      "Enter a letter: e\n"
     ]
    },
    {
     "name": "stdout",
     "output_type": "stream",
     "text": [
      "['e', 'l', 'e', '_', 'h', '_', '_', '_']\n"
     ]
    },
    {
     "name": "stdin",
     "output_type": "stream",
     "text": [
      "Enter a letter: p\n"
     ]
    },
    {
     "name": "stdout",
     "output_type": "stream",
     "text": [
      "['e', 'l', 'e', 'p', 'h', '_', '_', '_']\n"
     ]
    },
    {
     "name": "stdin",
     "output_type": "stream",
     "text": [
      "Enter a letter: a\n"
     ]
    },
    {
     "name": "stdout",
     "output_type": "stream",
     "text": [
      "['e', 'l', 'e', 'p', 'h', 'a', '_', '_']\n"
     ]
    },
    {
     "name": "stdin",
     "output_type": "stream",
     "text": [
      "Enter a letter: n\n"
     ]
    },
    {
     "name": "stdout",
     "output_type": "stream",
     "text": [
      "['e', 'l', 'e', 'p', 'h', 'a', 'n', '_']\n"
     ]
    },
    {
     "name": "stdin",
     "output_type": "stream",
     "text": [
      "Enter a letter: t\n"
     ]
    },
    {
     "name": "stdout",
     "output_type": "stream",
     "text": [
      "['e', 'l', 'e', 'p', 'h', 'a', 'n', 't']\n",
      "You win!\n"
     ]
    }
   ],
   "source": [
    "import random\n",
    "animals = [\"lion\", \"tiger\", \"elephant\", \"giraffe\", \"zebra\", \"kangaroo\", \"panda\", \"leopard\", \"cheetah\", \"wolf\", \"fox\", \"bear\", \"deer\", \"rabbit\", \"horse\", \"dolphin\", \"shark\", \"whale\", \"octopus\", \"jellyfish\", \"eagle\", \"owl\", \"parrot\", \"peacock\", \"penguin\", \"crocodile\", \"turtle\", \"snake\", \"frog\", \"chameleon\"]\n",
    "word = random.choice(animals)\n",
    "\n",
    "# check the answer\n",
    "#print(f\"The solution is {word}.\")  \n",
    "\n",
    "# lives concept\n",
    "stages = [\n",
    "    \"\"\"\n",
    "       ------\n",
    "       |    |\n",
    "       |    O\n",
    "       |   /|\\\\\n",
    "       |   / \\\\\n",
    "       |   \n",
    "    ------\n",
    "    \"\"\",\n",
    "    \"\"\"\n",
    "       ------\n",
    "       |    |\n",
    "       |    O\n",
    "       |   /|\\\\\n",
    "       |   / \n",
    "       |   \n",
    "    ------\n",
    "    \"\"\",\n",
    "    \"\"\"\n",
    "       ------\n",
    "       |    |\n",
    "       |    O\n",
    "       |   /|\\\\\n",
    "       |   \n",
    "       |   \n",
    "    ------\n",
    "    \"\"\",\n",
    "    \"\"\"\n",
    "       ------\n",
    "       |    |\n",
    "       |    O\n",
    "       |   /|\n",
    "       |   \n",
    "       |   \n",
    "    ------\n",
    "    \"\"\",\n",
    "    \"\"\"\n",
    "       ------\n",
    "       |    |\n",
    "       |    O\n",
    "       |    |\n",
    "       |   \n",
    "       |   \n",
    "    ------\n",
    "    \"\"\",\n",
    "    \"\"\"\n",
    "       ------\n",
    "       |    |\n",
    "       |    O\n",
    "       |    \n",
    "       |   \n",
    "       |   \n",
    "    ------\n",
    "    \"\"\",\n",
    "    \"\"\"\n",
    "       ------\n",
    "       |    |\n",
    "       |    \n",
    "       |    \n",
    "       |   \n",
    "       |   \n",
    "    ------\n",
    "    \"\"\"\n",
    "]\n",
    "\n",
    "lives = 6\n",
    "# Display the _ symbols\n",
    "display = []\n",
    "word_l = len(word)\n",
    "for a in range(0, word_l):\n",
    "    display += \"_\"\n",
    "print(display)\n",
    "\n",
    "# run continuosly check the input\n",
    "end_game = False\n",
    "while not end_game:\n",
    "    # take input from the user \n",
    "    guess = input(\"Enter a letter:\")\n",
    "    guess = guess.lower()\n",
    "\n",
    "    # check wheather it is in the name or not\n",
    "    for p in range(word_l):\n",
    "        a = word[p]\n",
    "        if a == guess:\n",
    "            display[p] = a\n",
    "    print(display)\n",
    "\n",
    "    # end game\n",
    "    if \"_\" not in display:\n",
    "        end_game = True\n",
    "        print(\"You win!\")\n",
    "    if guess not in word:\n",
    "        lives -=1\n",
    "        if lives == 0:\n",
    "            end_game = True\n",
    "            print(\"You Lose\")\n",
    "        # shows the picture of hangman\n",
    "        print(stages[lives])"
   ]
  }
 ],
 "metadata": {
  "kernelspec": {
   "display_name": "Python [conda env:base] *",
   "language": "python",
   "name": "conda-base-py"
  },
  "language_info": {
   "codemirror_mode": {
    "name": "ipython",
    "version": 3
   },
   "file_extension": ".py",
   "mimetype": "text/x-python",
   "name": "python",
   "nbconvert_exporter": "python",
   "pygments_lexer": "ipython3",
   "version": "3.12.7"
  }
 },
 "nbformat": 4,
 "nbformat_minor": 5
}
