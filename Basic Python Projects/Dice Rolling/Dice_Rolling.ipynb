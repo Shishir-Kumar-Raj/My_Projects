{
 "cells": [
  {
   "cell_type": "code",
   "execution_count": 12,
   "id": "39bc8dd7-46e6-4a0c-bc25-9580dcd10013",
   "metadata": {},
   "outputs": [
    {
     "name": "stdout",
     "output_type": "stream",
     "text": [
      "Welcome To Dice Rolling Game !!!\n"
     ]
    },
    {
     "name": "stdin",
     "output_type": "stream",
     "text": [
      "Would you like to Roll the dice (y/n)  z\n"
     ]
    },
    {
     "name": "stdout",
     "output_type": "stream",
     "text": [
      "invalid Choice!\n"
     ]
    }
   ],
   "source": [
    "import random\n",
    "print(\"Welcome To Dice Rolling Game !!!\")\n",
    "\n",
    "while True:\n",
    "    d = input(\"Would you like to Roll the dice (y/n) \")\n",
    "    d = d.lower()\n",
    "    if d == \"y\":\n",
    "        a = random.randint(1, 6)\n",
    "        print(\"dice value:\",a)\n",
    "    elif d == \"n\":\n",
    "        print(\"Thank you for playing !!!\")\n",
    "        break\n",
    "    else:\n",
    "        print(\"Invalid Choice !!!\")"
   ]
  },
  {
   "cell_type": "code",
   "execution_count": null,
   "id": "4eb1b261-a2f3-45d5-a525-5c258bd94d30",
   "metadata": {},
   "outputs": [],
   "source": []
  }
 ],
 "metadata": {
  "kernelspec": {
   "display_name": "Python [conda env:base] *",
   "language": "python",
   "name": "conda-base-py"
  },
  "language_info": {
   "codemirror_mode": {
    "name": "ipython",
    "version": 3
   },
   "file_extension": ".py",
   "mimetype": "text/x-python",
   "name": "python",
   "nbconvert_exporter": "python",
   "pygments_lexer": "ipython3",
   "version": "3.12.7"
  }
 },
 "nbformat": 4,
 "nbformat_minor": 5
}
