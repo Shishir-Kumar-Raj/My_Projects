{
 "cells": [
  {
   "cell_type": "markdown",
   "id": "859ce947-4f46-415b-ac6f-fcb3dca0c1f7",
   "metadata": {},
   "source": [
    "## Feedback "
   ]
  },
  {
   "cell_type": "code",
   "execution_count": null,
   "id": "160b527d-56f8-404f-b5f0-d02e0f2d8ee4",
   "metadata": {},
   "outputs": [],
   "source": [
    "def ask_feedback():\n",
    "    feedback = input(\"give your feedback :\")\n",
    "    rating = input(\"give rating from 1 to 5 :\")\n",
    "    suggestion = input(\"Do you have any suggestion:\")\n",
    "    print(\"\\nthank you for the feedback !!\")\n",
    "    print(\"\\nHere is your feedback\")\n",
    "    print(f\"Course Feedback {feedback}\")\n",
    "    print(f\"Rating : {rating}\")\n",
    "    print(f\"Suggestions : {suggestion}\")\n",
    "ask_feedback()"
   ]
  }
 ],
 "metadata": {
  "kernelspec": {
   "display_name": "Python [conda env:base] *",
   "language": "python",
   "name": "conda-base-py"
  },
  "language_info": {
   "codemirror_mode": {
    "name": "ipython",
    "version": 3
   },
   "file_extension": ".py",
   "mimetype": "text/x-python",
   "name": "python",
   "nbconvert_exporter": "python",
   "pygments_lexer": "ipython3",
   "version": "3.12.7"
  }
 },
 "nbformat": 4,
 "nbformat_minor": 5
}
