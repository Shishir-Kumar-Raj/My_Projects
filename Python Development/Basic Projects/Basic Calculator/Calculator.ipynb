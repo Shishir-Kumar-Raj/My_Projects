{
 "cells": [
  {
   "cell_type": "markdown",
   "id": "02d60281-f8eb-4601-91de-0595d88cbc5f",
   "metadata": {},
   "source": [
    "## Calculator"
   ]
  },
  {
   "cell_type": "code",
   "execution_count": 7,
   "id": "cfbb40d7-7d32-4de8-9629-b4868796eca8",
   "metadata": {},
   "outputs": [
    {
     "name": "stdout",
     "output_type": "stream",
     "text": [
      "Welcome to the Calculator!\n"
     ]
    },
    {
     "name": "stdin",
     "output_type": "stream",
     "text": [
      "Enter Your First Number: 5\n",
      "Enter Your Second number: 5\n",
      "Enter choice (+,-,*,/):  +\n"
     ]
    },
    {
     "name": "stdout",
     "output_type": "stream",
     "text": [
      "Result = :10.0\n"
     ]
    }
   ],
   "source": [
    "print(\"Welcome to the Calculator!\")\n",
    "\n",
    "# Operation function\n",
    "def add(a,b):\n",
    "    return a+b\n",
    "def subtract(a,b):\n",
    "    return a-b\n",
    "def multiply(a,b):\n",
    "    return a*b\n",
    "def divide(a,b):\n",
    "    return a/b\n",
    "\n",
    "def Calculator():\n",
    "    n1 = float(input(\"Enter Your First Number:\"))\n",
    "    n2 = float(input(\"Enter Your Second number:\"))\n",
    "    choice = input(\"Enter choice (+,-,*,/): \")\n",
    "    if choice == '+':\n",
    "        print(f\"Result = :{add(n1, n2)}\")\n",
    "    elif choice == '-':\n",
    "        print(f\"Result: {subtract(num1, num2)}\")\n",
    "    elif choice == '*':\n",
    "        print(f\"Result: {multiply(num1, num2)}\")\n",
    "    elif choice == '/':\n",
    "        print(f\"Result: {divide(num1, num2)}\")\n",
    "    else:\n",
    "        print(\"Invalid input\")\n",
    "Calculator()"
   ]
  }
 ],
 "metadata": {
  "kernelspec": {
   "display_name": "Python [conda env:base] *",
   "language": "python",
   "name": "conda-base-py"
  },
  "language_info": {
   "codemirror_mode": {
    "name": "ipython",
    "version": 3
   },
   "file_extension": ".py",
   "mimetype": "text/x-python",
   "name": "python",
   "nbconvert_exporter": "python",
   "pygments_lexer": "ipython3",
   "version": "3.12.7"
  }
 },
 "nbformat": 4,
 "nbformat_minor": 5
}
